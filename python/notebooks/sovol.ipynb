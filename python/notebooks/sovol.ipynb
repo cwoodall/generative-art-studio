{
 "cells": [
  {
   "cell_type": "code",
   "execution_count": 204,
   "metadata": {},
   "outputs": [],
   "source": [
    "import serial\n",
    "serial_port = \"/dev/ttyUSB2\"\n",
    "baudrate = 115200\n",
    "serial = serial.Serial(serial_port, baudrate)"
   ]
  },
  {
   "cell_type": "code",
   "execution_count": 159,
   "metadata": {},
   "outputs": [],
   "source": [
    "serial.close()"
   ]
  },
  {
   "cell_type": "code",
   "execution_count": 206,
   "metadata": {},
   "outputs": [
    {
     "name": "stdout",
     "output_type": "stream",
     "text": [
      "b'echo:Unknown command: \"?\"\\nok\\n'\n"
     ]
    }
   ],
   "source": [
    "#GRBL view settings?\n",
    "serial.write(b\"\\n\\r\")\n",
    "time.sleep(1.0)\n",
    "res = serial.read_all()\n",
    "print(res)"
   ]
  },
  {
   "cell_type": "code",
   "execution_count": 62,
   "metadata": {},
   "outputs": [
    {
     "data": {
      "text/plain": "5"
     },
     "execution_count": 62,
     "metadata": {},
     "output_type": "execute_result"
    }
   ],
   "source": [
    "serial.write(b\"G90\\n\\r\") # Set to absolute mode\n",
    "serial.write(b\"G21\\n\\r\") # Set to mm"
   ]
  },
  {
   "cell_type": "code",
   "execution_count": 63,
   "metadata": {},
   "outputs": [
    {
     "data": {
      "text/plain": "10"
     },
     "execution_count": 63,
     "metadata": {},
     "output_type": "execute_result"
    }
   ],
   "source": [
    "# Pen Down\n",
    "serial.write(b\"M280P0S0\\n\\r\")"
   ]
  },
  {
   "cell_type": "code",
   "execution_count": 64,
   "metadata": {},
   "outputs": [
    {
     "data": {
      "text/plain": "11"
     },
     "execution_count": 64,
     "metadata": {},
     "output_type": "execute_result"
    }
   ],
   "source": [
    "# Pen Up (HIGH)\n",
    "\n",
    "serial.write(b\"M280P0S90\\n\\r\")"
   ]
  },
  {
   "cell_type": "code",
   "execution_count": 65,
   "metadata": {},
   "outputs": [
    {
     "data": {
      "text/plain": "11"
     },
     "execution_count": 65,
     "metadata": {},
     "output_type": "execute_result"
    }
   ],
   "source": [
    "# Pen Up (Normal)\n",
    "\n",
    "serial.write(b\"M280P0S30\\n\\r\")"
   ]
  },
  {
   "cell_type": "code",
   "execution_count": 57,
   "metadata": {},
   "outputs": [],
   "source": [
    "# def pen_to_angle(serial, angle):\n",
    "#     a = b\"M28P0S{int(angle)}\".encode(\"ascii\")\n",
    "#     serial.write(a)\n",
    "#     serial.write(b\"\\n\\r\")\n",
    "# pen_to_angle(serial, 0)   "
   ]
  },
  {
   "cell_type": "code",
   "execution_count": 79,
   "metadata": {},
   "outputs": [
    {
     "data": {
      "text/plain": "11"
     },
     "execution_count": 79,
     "metadata": {},
     "output_type": "execute_result"
    }
   ],
   "source": [
    "# Pause \n",
    "serial.write(b\"M280P0S0\\n\\r\") # pen down\n",
    "serial.write(b\"G4 P2000\\n\\r\") # P50 is the pause length in ms\n",
    "serial.write(b\"M280P0S30\\n\\r\") # pen up\n"
   ]
  },
  {
   "cell_type": "code",
   "execution_count": 127,
   "metadata": {},
   "outputs": [
    {
     "data": {
      "text/plain": "5"
     },
     "execution_count": 127,
     "metadata": {},
     "output_type": "execute_result"
    }
   ],
   "source": [
    "# Auto home\n",
    "serial.write(b\"G28\\n\\r\")"
   ]
  },
  {
   "cell_type": "code",
   "execution_count": 147,
   "metadata": {},
   "outputs": [
    {
     "name": "stdout",
     "output_type": "stream",
     "text": [
      "b'G1 X0.000 Y0\\n\\r'\n"
     ]
    },
    {
     "data": {
      "text/plain": "14"
     },
     "execution_count": 147,
     "metadata": {},
     "output_type": "execute_result"
    }
   ],
   "source": [
    "# Go to position\n",
    "x = 0.0\n",
    "y = 0.0\n",
    "\n",
    "max_y = 300 #mm\n",
    "max_x = 300 #mm\n",
    "sendstr = f\"G1 X{x:0.3f} Y{y:0.3g}\\n\\r\".encode('utf-8')\n",
    "print(sendstr)\n",
    "serial.write(sendstr)"
   ]
  },
  {
   "cell_type": "code",
   "execution_count": 141,
   "metadata": {},
   "outputs": [
    {
     "data": {
      "text/plain": "11"
     },
     "execution_count": 141,
     "metadata": {},
     "output_type": "execute_result"
    }
   ],
   "source": [
    "# Travel speed\n",
    "serial.write(b\"G1 F10000\\n\\r\")"
   ]
  },
  {
   "cell_type": "code",
   "execution_count": 143,
   "metadata": {},
   "outputs": [
    {
     "data": {
      "text/plain": "10"
     },
     "execution_count": 143,
     "metadata": {},
     "output_type": "execute_result"
    }
   ],
   "source": [
    "#Paint Speed\n",
    "# Travel speed\n",
    "serial.write(b\"G1 F3000\\n\\r\")"
   ]
  },
  {
   "cell_type": "code",
   "execution_count": 1,
   "metadata": {},
   "outputs": [],
   "source": [
    "import enum\n",
    "from serial import Serial\n",
    "from typing import Tuple\n",
    "\n",
    "class PenState(enum.Enum):\n",
    "    DOWN = 0\n",
    "    UP = 30\n",
    "    HIGH_UP = 90\n",
    "\n",
    "class Rotation(enum.Enum):\n",
    "    CLOCKWISE = 2\n",
    "    COUNTER_CLOCKWISE = 3\n",
    "\n",
    "class SovolSO1(object):\n",
    "    def __init__(self, port=\"/dev/ttyUSB1\", baud=115200, max_dimensions=(300.0, 300.0)):\n",
    "        self.serial = Serial(port, baud, dsrdtr=True, timeout=1.0)\n",
    "        self.end_of_line = b\"\\n\"\n",
    "        self.max_dimensions = max_dimensions\n",
    "        time.sleep(10.0)\n",
    "        startup = self.serial.read_all()\n",
    "        print(startup.decode('ascii'))\n",
    "        self.serial.flush()\n",
    "        time.sleep(1.0)\n",
    "        self.write(\"G90\") # Set to absolute mode\n",
    "        self.write(\"G21\") # Set to mm\n",
    "        \n",
    "\n",
    "    def close(self):\n",
    "        self.serial.close()\n",
    "\n",
    "    def __enter__(self):\n",
    "        return self\n",
    "    \n",
    "    def __exit__(self, exc_type, exc_value, exc_traceback):\n",
    "        # pass\n",
    "        self.close()\n",
    "\n",
    "    def write(self, input: str, timeout = 100.0):\n",
    "        success = False\n",
    "        self.serial.write(input.encode('utf-8') + self.end_of_line)\n",
    "\n",
    "        ## Wait until we get an ok returned\n",
    "        start_time = time.time()\n",
    "        while (not success) and ((time.time() - start_time) < timeout):\n",
    "            # To do this properly we really should have a buffer incase we wrap over.            new_data = self.serial.read_until('\\n') \n",
    "            res = self.serial.read_until('\\n')\n",
    "            res = res.decode('ascii').strip('\\n')\n",
    "            if res:\n",
    "                print(res)\n",
    "            if \"ok\" in res:\n",
    "                print( \"Success!!!\")\n",
    "                success = True\n",
    "        if not success:\n",
    "            raise Exception(\"WOW\")            \n",
    "\n",
    "    def setPen(self, state: PenState):\n",
    "        self.write(f\"M280P0S{state.value}\")\n",
    "\n",
    "    def pause(self, pause_time_ms: int):\n",
    "        self.write(f\"G4 P{pause_time_ms}\")\n",
    "\n",
    "    def moveTo(self, point: Tuple[float, float]):\n",
    "        self.write(f\"G1 X{point[0]:0.3f} Y{point[1]:0.3g}\")\n",
    "\n",
    "    def arcTo(self, point: Tuple[float, float], center: Tuple[float, float], rot: Rotation = Rotation.CLOCKWISE):\n",
    "        self.write(\n",
    "            f\"G{rot.value} \"\n",
    "            f\"X{point[0]:0.3f} Y{point[1]:0.3g} \"\n",
    "            f\"I{center[0]:0.3g} J{center[1]:0.3g}\")\n",
    "\n",
    "    def autoHome(self):\n",
    "        self.write(\"G28\", timeout=100.0)\n",
    "\n",
    "    def setSpeed(self, speed: int):\n",
    "        self.write(f\"G1 F{speed}\")\n",
    "\n",
    "    def setTravelSpeed(self):\n",
    "        self.setSpeed(10000)\n",
    "    \n",
    "    def setDrawingSpeed(self):\n",
    "        self.setSpeed(3000)"
   ]
  },
  {
   "cell_type": "code",
   "execution_count": 4,
   "metadata": {},
   "outputs": [
    {
     "name": "stdout",
     "output_type": "stream",
     "text": [
      "start\n",
      "echo: External Reset\n",
      "Marlin 1.1.6\n",
      "\n",
      "echo: Last Updated: 2019-12-16 | Author: SO-1\n",
      "echo:Compiled: Mar 16 2020\n",
      "echo: Free Memory: 10510  PlannerBufferBytes: 1232\n",
      "echo:EEPROM version mismatch (EEPROM=? Marlin=V41)\n",
      "echo:Hardcoded Default Settings Loaded\n",
      "echo:  G21    ; Units in mm\n",
      "echo:  M149 C ; Units in Celsius\n",
      "\n",
      "echo:Filament settings: Disabled\n",
      "echo:  M200 D1.75\n",
      "echo:  M200 D0\n",
      "echo:Steps per unit:\n",
      "echo:  M92 X80.00 Y80.00 Z400.00 E140.00\n",
      "echo:Maximum feedrates (units/s):\n",
      "echo:  M203 X300.00 Y300.00 Z5.00 E25.00\n",
      "echo:Maximum Acceleration (units/s2):\n",
      "echo:  M201 X1000 Y1000 Z100 E1000\n",
      "echo:Acceleration (units/s2): P<print_accel> R<retract_accel> T<travel_accel>\n",
      "echo:  M204 P1000.00 R1000.00 T1000.00\n",
      "echo:Advanced: S<min_feedrate> T<min_travel_feedrate> B<min_segment_time_ms> X<max_xy_jerk> Z<max_z_jerk> E<max_e_jerk>\n",
      "echo:  M205 S0.00 T0.00 B20000 X10.00 Y10.00 Z0.40 E5.00\n",
      "echo:Home offset:\n",
      "echo:  M206 X0.00 Y0.00 Z0.00\n",
      "echo:Material heatup parameters:\n",
      "echo:  M145 S0 H185 B45 F0\n",
      "  M145 S1 H240 B70 F0\n",
      "echo:PID settings:\n",
      "echo:  M301 P29.76 I2.93 D75.58\n",
      "echo:Z-Probe Offset (mm):\n",
      "echo:  M851 Z0.00\n",
      "echo:TF card ok\n",
      "Init power off infomation.\n",
      "size: \n",
      "585\n",
      "init valid: \n",
      "0\n",
      "0\n",
      "\n",
      "ok\n",
      "Success!!!\n",
      "ok\n",
      "Success!!!\n",
      "echo:busy: processing\n",
      "echo:busy: processing\n",
      "echo:busy: processing\n",
      "echo:busy: processing\n",
      "X\n",
      ":0.00 Y:0.00 Z:0.00 E:0.00 Count X:0 Y:0 Z:0\n",
      "ok\n",
      "Success!!!\n",
      "ok\n",
      "Success!!!\n",
      "ok\n",
      "Success!!!\n",
      "ok\n",
      "Success!!!\n",
      "ok\n",
      "Success!!!\n",
      "ok\n",
      "Success!!!\n",
      "ok\n",
      "Success!!!\n",
      "ok\n",
      "Success!!!\n",
      "ok\n",
      "Success!!!\n",
      "ok\n",
      "Success!!!\n",
      "ok\n",
      "Success!!!\n",
      "ok\n",
      "Success!!!\n",
      "ok\n",
      "Success!!!\n",
      "ok\n",
      "Success!!!\n",
      "ok\n",
      "Success!!!\n",
      "ok\n",
      "Success!!!\n",
      "ok\n",
      "Success!!!\n",
      "ok\n",
      "Success!!!\n",
      "ok\n",
      "Success!!!\n",
      "ok\n",
      "Success!!!\n",
      "ok\n",
      "Success!!!\n",
      "ok\n",
      "Success!!!\n",
      "ok\n",
      "Success!!!\n",
      "ok\n",
      "Success!!!\n",
      "ok\n",
      "Success!!!\n",
      "ok\n",
      "Success!!!\n",
      "ok\n",
      "Success!!!\n",
      "ok\n",
      "Success!!!\n",
      "ok\n",
      "Success!!!\n",
      "ok\n",
      "Success!!!\n",
      "ok\n",
      "Success!!!\n",
      "ok\n",
      "Success!!!\n",
      "ok\n",
      "Success!!!\n",
      "ok\n",
      "Success!!!\n",
      "ok\n",
      "Success!!!\n",
      "ok\n",
      "Success!!!\n",
      "ok\n",
      "Success!!!\n",
      "ok\n",
      "Success!!!\n",
      "ok\n",
      "Success!!!\n"
     ]
    }
   ],
   "source": [
    "import time\n",
    "with SovolSO1(\"/dev/ttyUSB0\") as plotter:\n",
    "    plotter.autoHome()\n",
    "    plotter.setTravelSpeed()\n",
    "    plotter.setPen(PenState.HIGH_UP)\n",
    "    plotter.pause(50)\n",
    "    plotter.moveTo((75.0,75.0))\n",
    "    plotter.setDrawingSpeed()\n",
    "    plotter.setPen(PenState.DOWN)\n",
    "    plotter.pause(50)\n",
    "    plotter.moveTo((100.0,100.0))\n",
    "    plotter.moveTo((50.0,100.0))\n",
    "    plotter.moveTo((75.0,75.0))\n",
    "    plotter.setPen(PenState.HIGH_UP)\n",
    "    plotter.pause(50)\n",
    "    plotter.moveTo((50.0,100.0))\n",
    "    plotter.setPen(PenState.DOWN)\n",
    "    plotter.pause(50)\n",
    "    plotter.moveTo((50.0,50.0))\n",
    "    plotter.moveTo((75.0,75.0))\n",
    "    plotter.setPen(PenState.HIGH_UP)\n",
    "    plotter.pause(50)\n",
    "    plotter.moveTo((50.0,50.0))\n",
    "    plotter.setPen(PenState.DOWN)\n",
    "    plotter.pause(50)\n",
    "    plotter.moveTo((100.0,50.0))\n",
    "    plotter.moveTo((75.0,75.0))\n",
    "    plotter.setPen(PenState.HIGH_UP)\n",
    "    plotter.pause(50)\n",
    "    plotter.moveTo((100.0,50.0))\n",
    "    plotter.setPen(PenState.DOWN)\n",
    "    plotter.pause(50)\n",
    "    plotter.moveTo((100.0,100.0))\n",
    "    plotter.arcTo((50.0,100.0), (-25.0,-25.0), Rotation.COUNTER_CLOCKWISE)\n",
    "    plotter.arcTo((50.0,50.0), (25.0,-25.0), Rotation.COUNTER_CLOCKWISE)\n",
    "    plotter.arcTo((100.0,50.0), (25.0,25.0), Rotation.COUNTER_CLOCKWISE)\n",
    "    plotter.arcTo((100.0,100.0), (-25.0,25.0), Rotation.COUNTER_CLOCKWISE)\n",
    "    plotter.setPen(PenState.HIGH_UP)\n",
    "    plotter.pause(50)\n",
    "    plotter.setTravelSpeed()\n",
    "    plotter.moveTo((0.0,0.0))\n",
    "\n",
    "    "
   ]
  },
  {
   "cell_type": "code",
   "execution_count": 300,
   "metadata": {},
   "outputs": [
    {
     "name": "stdout",
     "output_type": "stream",
     "text": [
      "start\n",
      "echo: External Reset\n",
      "Marlin 1.1.6\n",
      "\n",
      "echo: Last Updated: 2019-12-16 | Author: SO-1\n",
      "echo:Compiled: Mar 16 2020\n",
      "echo: Free Memory: 10510  PlannerBufferBytes: 1232\n",
      "echo:EEPROM version mismatch (EEPROM=? Marlin=V41)\n",
      "echo:Hardcoded Default Settings Loaded\n",
      "echo:  G21    ; Units in mm\n",
      "echo:  M149 C ; Units in Celsius\n",
      "\n",
      "echo:Filament settings: Disabled\n",
      "echo:  M200 D1.75\n",
      "echo:  M200 D0\n",
      "echo:Steps per unit:\n",
      "echo:  M92 X80.00 Y80.00 Z400.00 E140.00\n",
      "echo:Maximum feedrates (units/s):\n",
      "echo:  M203 X300.00 Y300.00 Z5.00 E25.00\n",
      "echo:Maximum Acceleration (units/s2):\n",
      "echo:  M201 X1000 Y1000 Z100 E1000\n",
      "echo:Acceleration (units/s2): P<print_accel> R<retract_accel> T<travel_accel>\n",
      "echo:  M204 P1000.00 R1000.00 T1000.00\n",
      "echo:Advanced: S<min_feedrate> T<min_travel_feedrate> B<min_segment_time_ms> X<max_xy_jerk> Z<max_z_jerk> E<max_e_jerk>\n",
      "echo:  M205 S0.00 T0.00 B20000 X10.00 Y10.00 Z0.40 E5.00\n",
      "echo:Home offset:\n",
      "echo:  M206 X0.00 Y0.00 Z0.00\n",
      "echo:Material heatup parameters:\n",
      "echo:  M145 S0 H185 B45 F0\n",
      "  M145 S1 H240 B70 F0\n",
      "echo:PID settings:\n",
      "echo:  M301 P29.76 I2.93 D75.58\n",
      "echo:Z-Probe Offset (mm):\n",
      "echo:  M851 Z0.00\n",
      "echo:TF card ok\n",
      "Init power off infomation.\n",
      "size: \n",
      "585\n",
      "init valid: \n",
      "0\n",
      "0\n",
      "\n",
      "ok\n",
      "Success!!!\n",
      "ok\n",
      "Success!!!\n",
      "ok\n",
      "Success!!!\n"
     ]
    }
   ],
   "source": [
    "with SovolSO1(\"/dev/ttyUSB3\") as plotter:\n",
    "    plotter.setPen(PenState.DOWN)\n",
    "    time.sleep(10.0)"
   ]
  }
 ],
 "metadata": {
  "kernelspec": {
   "display_name": "Python 3.8.10  ('venv': venv)",
   "name": "pythonjvsc74a57bd09debdb5bd597417910f46767e873c5823798087792f2a0bb829bfde2d6dc6bc1"
  },
  "language_info": {
   "codemirror_mode": {
    "name": "ipython",
    "version": 3
   },
   "file_extension": ".py",
   "mimetype": "text/x-python",
   "name": "python",
   "nbconvert_exporter": "python",
   "pygments_lexer": "ipython3",
   "version": "3.8.10"
  },
  "metadata": {
   "interpreter": {
    "hash": "9debdb5bd597417910f46767e873c5823798087792f2a0bb829bfde2d6dc6bc1"
   }
  },
  "orig_nbformat": 2
 },
 "nbformat": 4,
 "nbformat_minor": 2
}